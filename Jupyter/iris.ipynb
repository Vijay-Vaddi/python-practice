{
 "cells": [
  {
   "cell_type": "code",
   "execution_count": 3,
   "id": "68e5eef9-0353-4c7b-8a92-e4296384e935",
   "metadata": {},
   "outputs": [],
   "source": [
    "from sklearn.datasets import load_iris\n",
    "#sklearn comes with some prebuilt data. \n",
    "#can assume data is cleaned. \n",
    "iris = load_iris()"
   ]
  },
  {
   "cell_type": "code",
   "execution_count": 10,
   "id": "fe9af225-2850-4710-b8bc-f0fe8b657451",
   "metadata": {},
   "outputs": [
    {
     "data": {
      "text/plain": [
       "['sepal length (cm)',\n",
       " 'sepal width (cm)',\n",
       " 'petal length (cm)',\n",
       " 'petal width (cm)']"
      ]
     },
     "execution_count": 10,
     "metadata": {},
     "output_type": "execute_result"
    }
   ],
   "source": [
    "#concept of X and Y in ML. X means the input we wanna give to our ML model, \n",
    "# Y is the target. \n",
    "X= iris.data #already set data and target\n",
    "y = iris.target #lower case y, standard\n",
    "# here we want to find/create a function that takes X of data and give out Y f(X) = y\n",
    "# here 3 types of iris, represented by 0,1,2. \n",
    "# each list is a piece of data that represents a type of iris\n",
    "\n",
    "#in kaggle you can see the input columns\n",
    "\n",
    "#wanna get feature names, names of columns, \n",
    "feature_names = iris.feature_names\n",
    "target_names = iris.target_names\n",
    "\n",
    "#once we understood and info about the data, now need to split data.\n",
    "#now we're doing supervised learning, we know data and target. "
   ]
  },
  {
   "cell_type": "code",
   "execution_count": 11,
   "id": "9a4e2d6c-f9f9-44f9-a9ea-898f57fbc5b5",
   "metadata": {},
   "outputs": [
    {
     "name": "stdout",
     "output_type": "stream",
     "text": [
      "(90, 4)\n",
      "(60, 4)\n"
     ]
    }
   ],
   "source": [
    "from sklearn.model_selection import train_test_split\n",
    "X_train, X_test, y_train, y_test = train_test_split(X,y, test_size=0.4)\n",
    "print(X_train.shape) #shape gives x,y of array\n",
    "print(X_test.shape)\n",
    "#splitting is done. "
   ]
  },
  {
   "cell_type": "code",
   "execution_count": 14,
   "id": "8a05cedd-a407-414c-a97d-0e63509df0c8",
   "metadata": {},
   "outputs": [],
   "source": [
    "# sklearn has tone of models. \n",
    "#one of the jobs of an ML engineer is to figure out which model/algorithm to use. \n",
    "from sklearn.neighbors import KNeighborsClassifier\n",
    "knn = KNeighborsClassifier(n_neighbors=3)\n",
    "#create model instance\n",
    "knn.fit(X_train, y_train)\n",
    "#run model on training data. \n",
    "y_pred = knn.predict(X_test)\n",
    "#get predictions of results based on X_test,the remaining data to test output against. "
   ]
  },
  {
   "cell_type": "code",
   "execution_count": 16,
   "id": "05a3d524-6f14-47e8-8762-8683ad6da266",
   "metadata": {},
   "outputs": [
    {
     "name": "stdout",
     "output_type": "stream",
     "text": [
      "0.9666666666666667\n"
     ]
    }
   ],
   "source": [
    "#compare the prediction with the test result data. \n",
    "from sklearn import metrics\n",
    "print(metrics.accuracy_score(y_test,y_pred))"
   ]
  }
 ],
 "metadata": {
  "kernelspec": {
   "display_name": "Python 3 (ipykernel)",
   "language": "python",
   "name": "python3"
  },
  "language_info": {
   "codemirror_mode": {
    "name": "ipython",
    "version": 3
   },
   "file_extension": ".py",
   "mimetype": "text/x-python",
   "name": "python",
   "nbconvert_exporter": "python",
   "pygments_lexer": "ipython3",
   "version": "3.11.4"
  }
 },
 "nbformat": 4,
 "nbformat_minor": 5
}
