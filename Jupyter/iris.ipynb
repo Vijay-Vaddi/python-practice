{
 "cells": [
  {
   "cell_type": "code",
   "execution_count": 2,
   "id": "68e5eef9-0353-4c7b-8a92-e4296384e935",
   "metadata": {},
   "outputs": [],
   "source": [
    "from sklearn.datasets import load_iris\n",
    "#sklearn comes with some prebuilt data. \n",
    "#can assume data is cleaned. \n",
    "iris = load_iris()"
   ]
  },
  {
   "cell_type": "code",
   "execution_count": 3,
   "id": "fe9af225-2850-4710-b8bc-f0fe8b657451",
   "metadata": {},
   "outputs": [],
   "source": [
    "#concept of X and Y in ML. X means the input we wanna give to our ML model, \n",
    "# Y is the target. \n",
    "X= iris.data #already set data and target\n",
    "y = iris.target #lower case y, standard\n",
    "# here we want to find/create a function that takes X of data and give out Y f(X) = y\n",
    "# here 3 types of iris, represented by 0,1,2. \n",
    "# each list is a piece of data that represents a type of iris\n",
    "\n",
    "#in kaggle you can see the input columns\n",
    "\n",
    "#wanna get feature names, names of columns, \n",
    "feature_names = iris.feature_names\n",
    "target_names = iris.target_names\n",
    "\n",
    "#once we understood and info about the data, now need to split data.\n",
    "#now we're doing supervised learning, we know data and target. "
   ]
  },
  {
   "cell_type": "code",
   "execution_count": 4,
   "id": "9a4e2d6c-f9f9-44f9-a9ea-898f57fbc5b5",
   "metadata": {},
   "outputs": [
    {
     "name": "stdout",
     "output_type": "stream",
     "text": [
      "(90, 4)\n",
      "(60, 4)\n"
     ]
    }
   ],
   "source": [
    "from sklearn.model_selection import train_test_split\n",
    "X_train, X_test, y_train, y_test = train_test_split(X,y, test_size=0.4)\n",
    "print(X_train.shape) #shape gives x,y of array\n",
    "print(X_test.shape)\n",
    "#splitting is done. "
   ]
  },
  {
   "cell_type": "code",
   "execution_count": 5,
   "id": "8a05cedd-a407-414c-a97d-0e63509df0c8",
   "metadata": {},
   "outputs": [],
   "source": [
    "# sklearn has tone of models. \n",
    "#one of the jobs of an ML engineer is to figure out which model/algorithm to use. \n",
    "from sklearn.neighbors import KNeighborsClassifier\n",
    "knn = KNeighborsClassifier(n_neighbors=3)\n",
    "#create model instance\n",
    "knn.fit(X_train, y_train)\n",
    "#run model on training data. \n",
    "y_pred = knn.predict(X_test) \n",
    "#get predictions of results based on X_test,the remaining data to test output against. "
   ]
  },
  {
   "cell_type": "code",
   "execution_count": 6,
   "id": "05a3d524-6f14-47e8-8762-8683ad6da266",
   "metadata": {},
   "outputs": [
    {
     "name": "stdout",
     "output_type": "stream",
     "text": [
      "0.9833333333333333\n"
     ]
    }
   ],
   "source": [
    "#compare the prediction with the test result data. \n",
    "from sklearn import metrics\n",
    "print(metrics.accuracy_score(y_test,y_pred))"
   ]
  },
  {
   "cell_type": "code",
   "execution_count": null,
   "id": "0ef9c0fc-349a-4753-831e-8b42c8095d57",
   "metadata": {},
   "outputs": [],
   "source": [
    "# how to process new inputs, a new pic of iris flower not seen before in the data. \n"
   ]
  },
  {
   "cell_type": "code",
   "execution_count": 10,
   "id": "dca68048-b3a6-4bc3-bb3d-a07f57e8e50b",
   "metadata": {},
   "outputs": [
    {
     "data": {
      "text/plain": [
       "['setosa', 'versicolor']"
      ]
     },
     "execution_count": 10,
     "metadata": {},
     "output_type": "execute_result"
    }
   ],
   "source": [
    "sample = [[3,5,2,1],[2,3,4,3]]\n",
    "predictions = knn.predict(sample)\n",
    "pred_species = [iris.target_names[p] for p in predictions]\n",
    "pred_species"
   ]
  }
 ],
 "metadata": {
  "kernelspec": {
   "display_name": "Python 3 (ipykernel)",
   "language": "python",
   "name": "python3"
  },
  "language_info": {
   "codemirror_mode": {
    "name": "ipython",
    "version": 3
   },
   "file_extension": ".py",
   "mimetype": "text/x-python",
   "name": "python",
   "nbconvert_exporter": "python",
   "pygments_lexer": "ipython3",
   "version": "3.11.4"
  }
 },
 "nbformat": 4,
 "nbformat_minor": 5
}
